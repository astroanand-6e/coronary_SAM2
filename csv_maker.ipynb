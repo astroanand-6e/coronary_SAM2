{
 "cells": [
  {
   "cell_type": "code",
   "execution_count": 1,
   "metadata": {},
   "outputs": [],
   "source": [
    "import os \n",
    "import csv"
   ]
  },
  {
   "cell_type": "code",
   "execution_count": 2,
   "metadata": {},
   "outputs": [
    {
     "data": {
      "text/plain": [
       "'/Users/anand/STUDY/CASBLoDAM/SAM'"
      ]
     },
     "execution_count": 2,
     "metadata": {},
     "output_type": "execute_result"
    }
   ],
   "source": [
    "os.getcwd()"
   ]
  },
  {
   "cell_type": "code",
   "execution_count": 3,
   "metadata": {},
   "outputs": [],
   "source": [
    "#Functions used in the program \n",
    "# os.listdir() method in python is used to get the list of all files and directories in the specified directory.\n",
    "aug_img_path = \"/Users/anand/STUDY/CASBLoDAM/SAM/Aug_dataset_cor_arteries/Augmented_image\"\n",
    "aug_mask_path = \"/Users/anand/STUDY/CASBLoDAM/SAM/Aug_dataset_cor_arteries/Augmented_mask\"\n",
    "\n",
    "csv_file = \"/Users/anand/STUDY/CASBLoDAM/SAM/Aug_dataset_cor_arteries/train.csv\"\n",
    "\n",
    "aug_imgs  = os.listdir(aug_img_path)\n",
    "\n",
    "aug_masks = os.listdir(aug_mask_path)\n",
    "\n"
   ]
  },
  {
   "cell_type": "code",
   "execution_count": 4,
   "metadata": {},
   "outputs": [
    {
     "name": "stdout",
     "output_type": "stream",
     "text": [
      "Aug_images ['2_aug2.png', '3_aug2.png', '25_aug3.png', '24_aug3.png', '11_aug1.png', '10_aug1.png', '53_aug2.png', '63.png', '52_aug2.png', '58_aug1.png', '59_aug1.png', '45_aug4.png', '44_aug4.png', '9_aug1.png', '8_aug1.png', '32_aug4.png', '33_aug4.png', '52_aug3.png', '62.png', '53_aug3.png', '24_aug2.png', '25_aug2.png', '3_aug3.png', '2_aug3.png', '3_aug1.png', '2_aug1.png', '10_aug2.png', '11_aug2.png', '60.png', '52_aug1.png', '53_aug1.png', '48.png', '59_aug2.png', '58_aug2.png', '8_aug2.png', '9_aug2.png', '9_aug3.png', '8_aug3.png', '58_aug3.png', '59_aug3.png', '49.png', '61.png', '11_aug3.png', '38_aug4.png', '39_aug4.png', '10_aug3.png', '25_aug1.png', '24_aug1.png', '3_aug4.png', '2_aug4.png', '59.png', '52_aug4.png', '53_aug4.png', '44_aug2.png', '45_aug2.png', '32_aug3.png', '33_aug3.png', '33_aug2.png', '32_aug2.png', '45_aug3.png', '44_aug3.png', '64.png', '58.png', '38_aug1.png', '39_aug1.png', '25_aug4.png', '24_aug4.png', '38_aug3.png', '11_aug4.png', '10_aug4.png', '39_aug3.png', '8.png', '58_aug4.png', '59_aug4.png', '45_aug1.png', '44_aug1.png', '9_aug4.png', '8_aug4.png', '32_aug1.png', '33_aug1.png', '9.png', '39_aug2.png', '38_aug2.png', '48_aug1.png', '49_aug1.png', '55_aug4.png', '54_aug4.png', '4_aug4.png', '5_aug4.png', '14.png', '28.png', '35_aug3.png', '34_aug3.png', '43_aug2.png', '42_aug2.png', '42_aug3.png', '43_aug3.png', '34_aug2.png', '35_aug2.png', '29.png', '15.png', '22_aug4.png', '23_aug4.png', '49_aug2.png', '48_aug2.png', '16_aug4.png', '17.png', '17_aug4.png', '42_aug1.png', '43_aug1.png', '28_aug4.png', '29_aug4.png', '35_aug1.png', '34_aug1.png', '16.png', '48_aug3.png', '61_aug4.png', '60_aug4.png', '49_aug3.png', '54_aug2.png', '55_aug2.png', '5_aug2.png', '4_aug2.png', '22_aug3.png', '23_aug3.png', '16_aug1.png', '12.png', '17_aug1.png', '42_aug4.png', '43_aug4.png', '28_aug1.png', '29_aug1.png', '35_aug4.png', '34_aug4.png', '13.png', '23_aug2.png', '22_aug2.png', '4_aug3.png', '5_aug3.png', '55_aug3.png', '54_aug3.png', '61_aug1.png', '60_aug1.png', '61_aug3.png', '48_aug4.png', '49_aug4.png', '60_aug3.png', '55_aug1.png', '54_aug1.png', '4_aug1.png', '5_aug1.png', '39.png', '11.png', '17_aug2.png', '16_aug2.png', '28_aug3.png', '29_aug3.png', '29_aug2.png', '28_aug2.png', '16_aug3.png', '17_aug3.png', '10.png', '38.png', '22_aug1.png', '23_aug1.png', '60_aug2.png', '61_aug2.png', '12_aug4.png', '13_aug4.png', '35.png', '21.png', '46_aug1.png', '47_aug1.png', '31_aug1.png', '30_aug1.png', '64_aug4.png', '20.png', '34.png', '1_aug4.png', '51_aug4.png', '50_aug4.png', '22.png', '36.png', '47_aug2.png', '46_aug2.png', '31_aug3.png', '18_aug4.png', '19_aug4.png', '30_aug3.png', '30_aug2.png', '31_aug2.png', '46_aug3.png', '47_aug3.png', '37.png', '23.png', '26_aug4.png', '27_aug4.png', '13_aug2.png', '12_aug2.png', '1_aug1.png', '51_aug1.png', '50_aug1.png', '64_aug3.png', '27.png', '33.png', '18_aug1.png', '19_aug1.png', '32.png', '26.png', '64_aug2.png', '26_aug1.png', '27_aug1.png', '12_aug3.png', '13_aug3.png', '12_aug1.png', '13_aug1.png', '1_aug2.png', '26_aug3.png', '27_aug3.png', '50_aug2.png', '51_aug2.png', '18.png', '30.png', '24.png', '46_aug4.png', '47_aug4.png', '19_aug2.png', '18_aug2.png', '18_aug3.png', '31_aug4.png', '30_aug4.png', '19_aug3.png', '25.png', '31.png', '19.png', '64_aug1.png', '51_aug3.png', '50_aug3.png', '27_aug2.png', '26_aug2.png', '1_aug3.png', '56_aug1.png', '57_aug1.png', '62_aug3.png', '63_aug3.png', '14_aug2.png', '15_aug2.png', '4.png', '7_aug1.png', '56.png', '6_aug1.png', '42.png', '21_aug1.png', '20_aug1.png', '43.png', '5.png', '57.png', '15_aug3.png', '14_aug3.png', '63_aug2.png', '62_aug2.png', '57_aug2.png', '56_aug2.png', '15_aug1.png', '14_aug1.png', '6_aug2.png', '41.png', '55.png', '7.png', '7_aug2.png', '21_aug3.png', '20_aug3.png', '41_aug4.png', '40_aug4.png', '36_aug4.png', '37_aug4.png', '20_aug2.png', '21_aug2.png', '54.png', '7_aug3.png', '6.png', '40.png', '6_aug3.png', '62_aug1.png', '63_aug1.png', '56_aug3.png', '57_aug3.png', '15_aug4.png', '14_aug4.png', '44.png', '2.png', '50.png', '41_aug1.png', '40_aug1.png', '36_aug1.png', '37_aug1.png', '3.png', '51.png', '45.png', '62_aug4.png', '63_aug4.png', '56_aug4.png', '57_aug4.png', '53.png', '1.png', '7_aug4.png', '6_aug4.png', '47.png', '36_aug3.png', '37_aug3.png', '40_aug2.png', '41_aug2.png', '41_aug3.png', '40_aug3.png', '37_aug2.png', '36_aug2.png', '46.png', '52.png', '21_aug4.png', '20_aug4.png']\n"
     ]
    }
   ],
   "source": [
    "print(\"Aug_images\",aug_imgs)"
   ]
  },
  {
   "cell_type": "code",
   "execution_count": 5,
   "metadata": {},
   "outputs": [
    {
     "name": "stdout",
     "output_type": "stream",
     "text": [
      "Aug_masks ['2_aug2.png', '3_aug2.png', '25_aug3.png', '24_aug3.png', '11_aug1.png', '10_aug1.png', '53_aug2.png', '63.png', '52_aug2.png', '58_aug1.png', '59_aug1.png', '45_aug4.png', '44_aug4.png', '9_aug1.png', '8_aug1.png', '32_aug4.png', '33_aug4.png', '52_aug3.png', '62.png', '53_aug3.png', '24_aug2.png', '25_aug2.png', '3_aug3.png', '2_aug3.png', '3_aug1.png', '2_aug1.png', '10_aug2.png', '11_aug2.png', '60.png', '52_aug1.png', '53_aug1.png', '48.png', '59_aug2.png', '58_aug2.png', '8_aug2.png', '9_aug2.png', '9_aug3.png', '8_aug3.png', '58_aug3.png', '59_aug3.png', '49.png', '61.png', '11_aug3.png', '38_aug4.png', '39_aug4.png', '10_aug3.png', '25_aug1.png', '24_aug1.png', '3_aug4.png', '2_aug4.png', '59.png', '52_aug4.png', '53_aug4.png', '44_aug2.png', '45_aug2.png', '32_aug3.png', '33_aug3.png', '33_aug2.png', '32_aug2.png', '45_aug3.png', '44_aug3.png', '64.png', '58.png', '38_aug1.png', '39_aug1.png', '25_aug4.png', '24_aug4.png', '38_aug3.png', '11_aug4.png', '10_aug4.png', '39_aug3.png', '8.png', '58_aug4.png', '59_aug4.png', '45_aug1.png', '44_aug1.png', '9_aug4.png', '8_aug4.png', '32_aug1.png', '33_aug1.png', '9.png', '39_aug2.png', '38_aug2.png', '48_aug1.png', '49_aug1.png', '55_aug4.png', '54_aug4.png', '4_aug4.png', '5_aug4.png', '14.png', '28.png', '35_aug3.png', '34_aug3.png', '43_aug2.png', '42_aug2.png', '42_aug3.png', '43_aug3.png', '34_aug2.png', '35_aug2.png', '29.png', '15.png', '22_aug4.png', '23_aug4.png', '49_aug2.png', '48_aug2.png', '16_aug4.png', '17.png', '17_aug4.png', '42_aug1.png', '43_aug1.png', '28_aug4.png', '29_aug4.png', '35_aug1.png', '34_aug1.png', '16.png', '48_aug3.png', '61_aug4.png', '60_aug4.png', '49_aug3.png', '54_aug2.png', '55_aug2.png', '5_aug2.png', '4_aug2.png', '22_aug3.png', '23_aug3.png', '16_aug1.png', '12.png', '17_aug1.png', '42_aug4.png', '43_aug4.png', '28_aug1.png', '29_aug1.png', '35_aug4.png', '34_aug4.png', '13.png', '23_aug2.png', '22_aug2.png', '4_aug3.png', '5_aug3.png', '55_aug3.png', '54_aug3.png', '61_aug1.png', '60_aug1.png', '61_aug3.png', '48_aug4.png', '49_aug4.png', '60_aug3.png', '55_aug1.png', '54_aug1.png', '4_aug1.png', '5_aug1.png', '39.png', '11.png', '17_aug2.png', '16_aug2.png', '28_aug3.png', '29_aug3.png', '29_aug2.png', '28_aug2.png', '16_aug3.png', '17_aug3.png', '10.png', '38.png', '22_aug1.png', '23_aug1.png', '60_aug2.png', '61_aug2.png', '12_aug4.png', '13_aug4.png', '35.png', '21.png', '46_aug1.png', '47_aug1.png', '31_aug1.png', '30_aug1.png', '64_aug4.png', '20.png', '34.png', '1_aug4.png', '51_aug4.png', '50_aug4.png', '22.png', '36.png', '47_aug2.png', '46_aug2.png', '31_aug3.png', '18_aug4.png', '19_aug4.png', '30_aug3.png', '30_aug2.png', '31_aug2.png', '46_aug3.png', '47_aug3.png', '37.png', '23.png', '26_aug4.png', '27_aug4.png', '13_aug2.png', '12_aug2.png', '1_aug1.png', '51_aug1.png', '50_aug1.png', '64_aug3.png', '27.png', '33.png', '18_aug1.png', '19_aug1.png', '32.png', '26.png', '64_aug2.png', '26_aug1.png', '27_aug1.png', '12_aug3.png', '13_aug3.png', '12_aug1.png', '13_aug1.png', '1_aug2.png', '26_aug3.png', '27_aug3.png', '50_aug2.png', '51_aug2.png', '18.png', '30.png', '24.png', '46_aug4.png', '47_aug4.png', '19_aug2.png', '18_aug2.png', '18_aug3.png', '31_aug4.png', '30_aug4.png', '19_aug3.png', '25.png', '31.png', '19.png', '64_aug1.png', '51_aug3.png', '50_aug3.png', '27_aug2.png', '26_aug2.png', '1_aug3.png', '56_aug1.png', '57_aug1.png', '62_aug3.png', '63_aug3.png', '14_aug2.png', '15_aug2.png', '4.png', '7_aug1.png', '56.png', '6_aug1.png', '42.png', '21_aug1.png', '20_aug1.png', '43.png', '5.png', '57.png', '15_aug3.png', '14_aug3.png', '63_aug2.png', '62_aug2.png', '57_aug2.png', '56_aug2.png', '15_aug1.png', '14_aug1.png', '6_aug2.png', '41.png', '55.png', '7.png', '7_aug2.png', '21_aug3.png', '20_aug3.png', '41_aug4.png', '40_aug4.png', '36_aug4.png', '37_aug4.png', '20_aug2.png', '21_aug2.png', '54.png', '7_aug3.png', '6.png', '40.png', '6_aug3.png', '62_aug1.png', '63_aug1.png', '56_aug3.png', '57_aug3.png', '15_aug4.png', '14_aug4.png', '44.png', '2.png', '50.png', '41_aug1.png', '40_aug1.png', '36_aug1.png', '37_aug1.png', '3.png', '51.png', '45.png', '62_aug4.png', '63_aug4.png', '56_aug4.png', '57_aug4.png', '53.png', '1.png', '7_aug4.png', '6_aug4.png', '47.png', '36_aug3.png', '37_aug3.png', '40_aug2.png', '41_aug2.png', '41_aug3.png', '40_aug3.png', '37_aug2.png', '36_aug2.png', '46.png', '52.png', '21_aug4.png', '20_aug4.png']\n"
     ]
    }
   ],
   "source": [
    "print(\"Aug_masks\",aug_masks)"
   ]
  },
  {
   "cell_type": "code",
   "execution_count": null,
   "metadata": {},
   "outputs": [
    {
     "name": "stdout",
     "output_type": "stream",
     "text": [
      "csv_data [['image_id', 'mask_id'], ['2_aug2.png', '2_aug2.png'], ['3_aug2.png', '3_aug2.png'], ['25_aug3.png', '25_aug3.png'], ['24_aug3.png', '24_aug3.png'], ['11_aug1.png', '11_aug1.png'], ['10_aug1.png', '10_aug1.png'], ['53_aug2.png', '53_aug2.png'], ['63.png', '63.png'], ['52_aug2.png', '52_aug2.png'], ['58_aug1.png', '58_aug1.png'], ['59_aug1.png', '59_aug1.png'], ['45_aug4.png', '45_aug4.png'], ['44_aug4.png', '44_aug4.png'], ['9_aug1.png', '9_aug1.png'], ['8_aug1.png', '8_aug1.png'], ['32_aug4.png', '32_aug4.png'], ['33_aug4.png', '33_aug4.png'], ['52_aug3.png', '52_aug3.png'], ['62.png', '62.png'], ['53_aug3.png', '53_aug3.png'], ['24_aug2.png', '24_aug2.png'], ['25_aug2.png', '25_aug2.png'], ['3_aug3.png', '3_aug3.png'], ['2_aug3.png', '2_aug3.png'], ['3_aug1.png', '3_aug1.png'], ['2_aug1.png', '2_aug1.png'], ['10_aug2.png', '10_aug2.png'], ['11_aug2.png', '11_aug2.png'], ['60.png', '60.png'], ['52_aug1.png', '52_aug1.png'], ['53_aug1.png', '53_aug1.png'], ['48.png', '48.png'], ['59_aug2.png', '59_aug2.png'], ['58_aug2.png', '58_aug2.png'], ['8_aug2.png', '8_aug2.png'], ['9_aug2.png', '9_aug2.png'], ['9_aug3.png', '9_aug3.png'], ['8_aug3.png', '8_aug3.png'], ['58_aug3.png', '58_aug3.png'], ['59_aug3.png', '59_aug3.png'], ['49.png', '49.png'], ['61.png', '61.png'], ['11_aug3.png', '11_aug3.png'], ['38_aug4.png', '38_aug4.png'], ['39_aug4.png', '39_aug4.png'], ['10_aug3.png', '10_aug3.png'], ['25_aug1.png', '25_aug1.png'], ['24_aug1.png', '24_aug1.png'], ['3_aug4.png', '3_aug4.png'], ['2_aug4.png', '2_aug4.png'], ['59.png', '59.png'], ['52_aug4.png', '52_aug4.png'], ['53_aug4.png', '53_aug4.png'], ['44_aug2.png', '44_aug2.png'], ['45_aug2.png', '45_aug2.png'], ['32_aug3.png', '32_aug3.png'], ['33_aug3.png', '33_aug3.png'], ['33_aug2.png', '33_aug2.png'], ['32_aug2.png', '32_aug2.png'], ['45_aug3.png', '45_aug3.png'], ['44_aug3.png', '44_aug3.png'], ['64.png', '64.png'], ['58.png', '58.png'], ['38_aug1.png', '38_aug1.png'], ['39_aug1.png', '39_aug1.png'], ['25_aug4.png', '25_aug4.png'], ['24_aug4.png', '24_aug4.png'], ['38_aug3.png', '38_aug3.png'], ['11_aug4.png', '11_aug4.png'], ['10_aug4.png', '10_aug4.png'], ['39_aug3.png', '39_aug3.png'], ['8.png', '8.png'], ['58_aug4.png', '58_aug4.png'], ['59_aug4.png', '59_aug4.png'], ['45_aug1.png', '45_aug1.png'], ['44_aug1.png', '44_aug1.png'], ['9_aug4.png', '9_aug4.png'], ['8_aug4.png', '8_aug4.png'], ['32_aug1.png', '32_aug1.png'], ['33_aug1.png', '33_aug1.png'], ['9.png', '9.png'], ['39_aug2.png', '39_aug2.png'], ['38_aug2.png', '38_aug2.png'], ['48_aug1.png', '48_aug1.png'], ['49_aug1.png', '49_aug1.png'], ['55_aug4.png', '55_aug4.png'], ['54_aug4.png', '54_aug4.png'], ['4_aug4.png', '4_aug4.png'], ['5_aug4.png', '5_aug4.png'], ['14.png', '14.png'], ['28.png', '28.png'], ['35_aug3.png', '35_aug3.png'], ['34_aug3.png', '34_aug3.png'], ['43_aug2.png', '43_aug2.png'], ['42_aug2.png', '42_aug2.png'], ['42_aug3.png', '42_aug3.png'], ['43_aug3.png', '43_aug3.png'], ['34_aug2.png', '34_aug2.png'], ['35_aug2.png', '35_aug2.png'], ['29.png', '29.png'], ['15.png', '15.png'], ['22_aug4.png', '22_aug4.png'], ['23_aug4.png', '23_aug4.png'], ['49_aug2.png', '49_aug2.png'], ['48_aug2.png', '48_aug2.png'], ['16_aug4.png', '16_aug4.png'], ['17.png', '17.png'], ['17_aug4.png', '17_aug4.png'], ['42_aug1.png', '42_aug1.png'], ['43_aug1.png', '43_aug1.png'], ['28_aug4.png', '28_aug4.png'], ['29_aug4.png', '29_aug4.png'], ['35_aug1.png', '35_aug1.png'], ['34_aug1.png', '34_aug1.png'], ['16.png', '16.png'], ['48_aug3.png', '48_aug3.png'], ['61_aug4.png', '61_aug4.png'], ['60_aug4.png', '60_aug4.png'], ['49_aug3.png', '49_aug3.png'], ['54_aug2.png', '54_aug2.png'], ['55_aug2.png', '55_aug2.png'], ['5_aug2.png', '5_aug2.png'], ['4_aug2.png', '4_aug2.png'], ['22_aug3.png', '22_aug3.png'], ['23_aug3.png', '23_aug3.png'], ['16_aug1.png', '16_aug1.png'], ['12.png', '12.png'], ['17_aug1.png', '17_aug1.png'], ['42_aug4.png', '42_aug4.png'], ['43_aug4.png', '43_aug4.png'], ['28_aug1.png', '28_aug1.png'], ['29_aug1.png', '29_aug1.png'], ['35_aug4.png', '35_aug4.png'], ['34_aug4.png', '34_aug4.png'], ['13.png', '13.png'], ['23_aug2.png', '23_aug2.png'], ['22_aug2.png', '22_aug2.png'], ['4_aug3.png', '4_aug3.png'], ['5_aug3.png', '5_aug3.png'], ['55_aug3.png', '55_aug3.png'], ['54_aug3.png', '54_aug3.png'], ['61_aug1.png', '61_aug1.png'], ['60_aug1.png', '60_aug1.png'], ['61_aug3.png', '61_aug3.png'], ['48_aug4.png', '48_aug4.png'], ['49_aug4.png', '49_aug4.png'], ['60_aug3.png', '60_aug3.png'], ['55_aug1.png', '55_aug1.png'], ['54_aug1.png', '54_aug1.png'], ['4_aug1.png', '4_aug1.png'], ['5_aug1.png', '5_aug1.png'], ['39.png', '39.png'], ['11.png', '11.png'], ['17_aug2.png', '17_aug2.png'], ['16_aug2.png', '16_aug2.png'], ['28_aug3.png', '28_aug3.png'], ['29_aug3.png', '29_aug3.png'], ['29_aug2.png', '29_aug2.png'], ['28_aug2.png', '28_aug2.png'], ['16_aug3.png', '16_aug3.png'], ['17_aug3.png', '17_aug3.png'], ['10.png', '10.png'], ['38.png', '38.png'], ['22_aug1.png', '22_aug1.png'], ['23_aug1.png', '23_aug1.png'], ['60_aug2.png', '60_aug2.png'], ['61_aug2.png', '61_aug2.png'], ['12_aug4.png', '12_aug4.png'], ['13_aug4.png', '13_aug4.png'], ['35.png', '35.png'], ['21.png', '21.png'], ['46_aug1.png', '46_aug1.png'], ['47_aug1.png', '47_aug1.png'], ['31_aug1.png', '31_aug1.png'], ['30_aug1.png', '30_aug1.png'], ['64_aug4.png', '64_aug4.png'], ['20.png', '20.png'], ['34.png', '34.png'], ['1_aug4.png', '1_aug4.png'], ['51_aug4.png', '51_aug4.png'], ['50_aug4.png', '50_aug4.png'], ['22.png', '22.png'], ['36.png', '36.png'], ['47_aug2.png', '47_aug2.png'], ['46_aug2.png', '46_aug2.png'], ['31_aug3.png', '31_aug3.png'], ['18_aug4.png', '18_aug4.png'], ['19_aug4.png', '19_aug4.png'], ['30_aug3.png', '30_aug3.png'], ['30_aug2.png', '30_aug2.png'], ['31_aug2.png', '31_aug2.png'], ['46_aug3.png', '46_aug3.png'], ['47_aug3.png', '47_aug3.png'], ['37.png', '37.png'], ['23.png', '23.png'], ['26_aug4.png', '26_aug4.png'], ['27_aug4.png', '27_aug4.png'], ['13_aug2.png', '13_aug2.png'], ['12_aug2.png', '12_aug2.png'], ['1_aug1.png', '1_aug1.png'], ['51_aug1.png', '51_aug1.png'], ['50_aug1.png', '50_aug1.png'], ['64_aug3.png', '64_aug3.png'], ['27.png', '27.png'], ['33.png', '33.png'], ['18_aug1.png', '18_aug1.png'], ['19_aug1.png', '19_aug1.png'], ['32.png', '32.png'], ['26.png', '26.png'], ['64_aug2.png', '64_aug2.png'], ['26_aug1.png', '26_aug1.png'], ['27_aug1.png', '27_aug1.png'], ['12_aug3.png', '12_aug3.png'], ['13_aug3.png', '13_aug3.png'], ['12_aug1.png', '12_aug1.png'], ['13_aug1.png', '13_aug1.png'], ['1_aug2.png', '1_aug2.png'], ['26_aug3.png', '26_aug3.png'], ['27_aug3.png', '27_aug3.png'], ['50_aug2.png', '50_aug2.png'], ['51_aug2.png', '51_aug2.png'], ['18.png', '18.png'], ['30.png', '30.png'], ['24.png', '24.png'], ['46_aug4.png', '46_aug4.png'], ['47_aug4.png', '47_aug4.png'], ['19_aug2.png', '19_aug2.png'], ['18_aug2.png', '18_aug2.png'], ['18_aug3.png', '18_aug3.png'], ['31_aug4.png', '31_aug4.png'], ['30_aug4.png', '30_aug4.png'], ['19_aug3.png', '19_aug3.png'], ['25.png', '25.png'], ['31.png', '31.png'], ['19.png', '19.png'], ['64_aug1.png', '64_aug1.png'], ['51_aug3.png', '51_aug3.png'], ['50_aug3.png', '50_aug3.png'], ['27_aug2.png', '27_aug2.png'], ['26_aug2.png', '26_aug2.png'], ['1_aug3.png', '1_aug3.png'], ['56_aug1.png', '56_aug1.png'], ['57_aug1.png', '57_aug1.png'], ['62_aug3.png', '62_aug3.png'], ['63_aug3.png', '63_aug3.png'], ['14_aug2.png', '14_aug2.png'], ['15_aug2.png', '15_aug2.png'], ['4.png', '4.png'], ['7_aug1.png', '7_aug1.png'], ['56.png', '56.png'], ['6_aug1.png', '6_aug1.png'], ['42.png', '42.png'], ['21_aug1.png', '21_aug1.png'], ['20_aug1.png', '20_aug1.png'], ['43.png', '43.png'], ['5.png', '5.png'], ['57.png', '57.png'], ['15_aug3.png', '15_aug3.png'], ['14_aug3.png', '14_aug3.png'], ['63_aug2.png', '63_aug2.png'], ['62_aug2.png', '62_aug2.png'], ['57_aug2.png', '57_aug2.png'], ['56_aug2.png', '56_aug2.png'], ['15_aug1.png', '15_aug1.png'], ['14_aug1.png', '14_aug1.png'], ['6_aug2.png', '6_aug2.png'], ['41.png', '41.png'], ['55.png', '55.png'], ['7.png', '7.png'], ['7_aug2.png', '7_aug2.png'], ['21_aug3.png', '21_aug3.png'], ['20_aug3.png', '20_aug3.png'], ['41_aug4.png', '41_aug4.png'], ['40_aug4.png', '40_aug4.png'], ['36_aug4.png', '36_aug4.png'], ['37_aug4.png', '37_aug4.png'], ['20_aug2.png', '20_aug2.png'], ['21_aug2.png', '21_aug2.png'], ['54.png', '54.png'], ['7_aug3.png', '7_aug3.png'], ['6.png', '6.png'], ['40.png', '40.png'], ['6_aug3.png', '6_aug3.png'], ['62_aug1.png', '62_aug1.png'], ['63_aug1.png', '63_aug1.png'], ['56_aug3.png', '56_aug3.png'], ['57_aug3.png', '57_aug3.png'], ['15_aug4.png', '15_aug4.png'], ['14_aug4.png', '14_aug4.png'], ['44.png', '44.png'], ['2.png', '2.png'], ['50.png', '50.png'], ['41_aug1.png', '41_aug1.png'], ['40_aug1.png', '40_aug1.png'], ['36_aug1.png', '36_aug1.png'], ['37_aug1.png', '37_aug1.png'], ['3.png', '3.png'], ['51.png', '51.png'], ['45.png', '45.png'], ['62_aug4.png', '62_aug4.png'], ['63_aug4.png', '63_aug4.png'], ['56_aug4.png', '56_aug4.png'], ['57_aug4.png', '57_aug4.png'], ['53.png', '53.png'], ['1.png', '1.png'], ['7_aug4.png', '7_aug4.png'], ['6_aug4.png', '6_aug4.png'], ['47.png', '47.png'], ['36_aug3.png', '36_aug3.png'], ['37_aug3.png', '37_aug3.png'], ['40_aug2.png', '40_aug2.png'], ['41_aug2.png', '41_aug2.png'], ['41_aug3.png', '41_aug3.png'], ['40_aug3.png', '40_aug3.png'], ['37_aug2.png', '37_aug2.png'], ['36_aug2.png', '36_aug2.png'], ['46.png', '46.png'], ['52.png', '52.png'], ['21_aug4.png', '21_aug4.png'], ['20_aug4.png', '20_aug4.png']]\n"
     ]
    }
   ],
   "source": [
    "# dicts are initialized using {} and lists are initialized using []\n",
    "\n",
    "#Preparing Csv_data\n",
    "\n",
    "image_mask_dict = {}   \n",
    "\n",
    "for image_filename in aug_imgs:\n",
    "    img_basename, _ = os.path.splitext(image_filename)\n",
    "    image_mask_dict[img_basename] = [image_filename, None]       # value is a list of two elements [image_filename, None]\n",
    "\n",
    "for mask_filename in aug_masks:\n",
    "    mask_basename, _ = os.path.splitext(mask_filename)\n",
    "    if mask_basename in image_mask_dict:\n",
    "        image_mask_dict[mask_basename][1] = mask_filename\n",
    "\n",
    "\n",
    "csv_data = []\n",
    "header_rows = ['image_id', 'mask_id']\n",
    "csv_data.append(header_rows)   # [['image_id', 'mask_id']]\n",
    "\n",
    "for basename, filename in image_mask_dict.items():\n",
    "    img_filename = filename[0]\n",
    "    mask_filename = filename[1]\n",
    "    if mask_filename is not None:\n",
    "        csv_row = [img_filename, mask_filename]\n",
    "        csv_data.append(csv_row)\n",
    "\n",
    "\n",
    "print(\"csv_data\",csv_data)\n"
   ]
  },
  {
   "cell_type": "code",
   "execution_count": 7,
   "metadata": {},
   "outputs": [
    {
     "name": "stdout",
     "output_type": "stream",
     "text": [
      "Csv file created at /Users/anand/STUDY/CASBLoDAM/SAM/Aug_dataset_cor_arteries/train.csv\n"
     ]
    }
   ],
   "source": [
    "with open(csv_file, \"w\", newline=\"\") as f:\n",
    "    writer = csv.writer(f)  #initialize the csv writer\n",
    "    writer.writerows(csv_data) #write csv_data to the csv file\n",
    "\n",
    "print(f\"Csv file created at {csv_file}\")\n"
   ]
  },
  {
   "cell_type": "code",
   "execution_count": 8,
   "metadata": {},
   "outputs": [
    {
     "name": "stdout",
     "output_type": "stream",
     "text": [
      "{'2_aug2': ['2_aug2.png', '2_aug2.png'], '3_aug2': ['3_aug2.png', '3_aug2.png'], '25_aug3': ['25_aug3.png', '25_aug3.png'], '24_aug3': ['24_aug3.png', '24_aug3.png'], '11_aug1': ['11_aug1.png', '11_aug1.png'], '10_aug1': ['10_aug1.png', '10_aug1.png'], '53_aug2': ['53_aug2.png', '53_aug2.png'], '63': ['63.png', '63.png'], '52_aug2': ['52_aug2.png', '52_aug2.png'], '58_aug1': ['58_aug1.png', '58_aug1.png'], '59_aug1': ['59_aug1.png', '59_aug1.png'], '45_aug4': ['45_aug4.png', '45_aug4.png'], '44_aug4': ['44_aug4.png', '44_aug4.png'], '9_aug1': ['9_aug1.png', '9_aug1.png'], '8_aug1': ['8_aug1.png', '8_aug1.png'], '32_aug4': ['32_aug4.png', '32_aug4.png'], '33_aug4': ['33_aug4.png', '33_aug4.png'], '52_aug3': ['52_aug3.png', '52_aug3.png'], '62': ['62.png', '62.png'], '53_aug3': ['53_aug3.png', '53_aug3.png'], '24_aug2': ['24_aug2.png', '24_aug2.png'], '25_aug2': ['25_aug2.png', '25_aug2.png'], '3_aug3': ['3_aug3.png', '3_aug3.png'], '2_aug3': ['2_aug3.png', '2_aug3.png'], '3_aug1': ['3_aug1.png', '3_aug1.png'], '2_aug1': ['2_aug1.png', '2_aug1.png'], '10_aug2': ['10_aug2.png', '10_aug2.png'], '11_aug2': ['11_aug2.png', '11_aug2.png'], '60': ['60.png', '60.png'], '52_aug1': ['52_aug1.png', '52_aug1.png'], '53_aug1': ['53_aug1.png', '53_aug1.png'], '48': ['48.png', '48.png'], '59_aug2': ['59_aug2.png', '59_aug2.png'], '58_aug2': ['58_aug2.png', '58_aug2.png'], '8_aug2': ['8_aug2.png', '8_aug2.png'], '9_aug2': ['9_aug2.png', '9_aug2.png'], '9_aug3': ['9_aug3.png', '9_aug3.png'], '8_aug3': ['8_aug3.png', '8_aug3.png'], '58_aug3': ['58_aug3.png', '58_aug3.png'], '59_aug3': ['59_aug3.png', '59_aug3.png'], '49': ['49.png', '49.png'], '61': ['61.png', '61.png'], '11_aug3': ['11_aug3.png', '11_aug3.png'], '38_aug4': ['38_aug4.png', '38_aug4.png'], '39_aug4': ['39_aug4.png', '39_aug4.png'], '10_aug3': ['10_aug3.png', '10_aug3.png'], '25_aug1': ['25_aug1.png', '25_aug1.png'], '24_aug1': ['24_aug1.png', '24_aug1.png'], '3_aug4': ['3_aug4.png', '3_aug4.png'], '2_aug4': ['2_aug4.png', '2_aug4.png'], '59': ['59.png', '59.png'], '52_aug4': ['52_aug4.png', '52_aug4.png'], '53_aug4': ['53_aug4.png', '53_aug4.png'], '44_aug2': ['44_aug2.png', '44_aug2.png'], '45_aug2': ['45_aug2.png', '45_aug2.png'], '32_aug3': ['32_aug3.png', '32_aug3.png'], '33_aug3': ['33_aug3.png', '33_aug3.png'], '33_aug2': ['33_aug2.png', '33_aug2.png'], '32_aug2': ['32_aug2.png', '32_aug2.png'], '45_aug3': ['45_aug3.png', '45_aug3.png'], '44_aug3': ['44_aug3.png', '44_aug3.png'], '64': ['64.png', '64.png'], '58': ['58.png', '58.png'], '38_aug1': ['38_aug1.png', '38_aug1.png'], '39_aug1': ['39_aug1.png', '39_aug1.png'], '25_aug4': ['25_aug4.png', '25_aug4.png'], '24_aug4': ['24_aug4.png', '24_aug4.png'], '38_aug3': ['38_aug3.png', '38_aug3.png'], '11_aug4': ['11_aug4.png', '11_aug4.png'], '10_aug4': ['10_aug4.png', '10_aug4.png'], '39_aug3': ['39_aug3.png', '39_aug3.png'], '8': ['8.png', '8.png'], '58_aug4': ['58_aug4.png', '58_aug4.png'], '59_aug4': ['59_aug4.png', '59_aug4.png'], '45_aug1': ['45_aug1.png', '45_aug1.png'], '44_aug1': ['44_aug1.png', '44_aug1.png'], '9_aug4': ['9_aug4.png', '9_aug4.png'], '8_aug4': ['8_aug4.png', '8_aug4.png'], '32_aug1': ['32_aug1.png', '32_aug1.png'], '33_aug1': ['33_aug1.png', '33_aug1.png'], '9': ['9.png', '9.png'], '39_aug2': ['39_aug2.png', '39_aug2.png'], '38_aug2': ['38_aug2.png', '38_aug2.png'], '48_aug1': ['48_aug1.png', '48_aug1.png'], '49_aug1': ['49_aug1.png', '49_aug1.png'], '55_aug4': ['55_aug4.png', '55_aug4.png'], '54_aug4': ['54_aug4.png', '54_aug4.png'], '4_aug4': ['4_aug4.png', '4_aug4.png'], '5_aug4': ['5_aug4.png', '5_aug4.png'], '14': ['14.png', '14.png'], '28': ['28.png', '28.png'], '35_aug3': ['35_aug3.png', '35_aug3.png'], '34_aug3': ['34_aug3.png', '34_aug3.png'], '43_aug2': ['43_aug2.png', '43_aug2.png'], '42_aug2': ['42_aug2.png', '42_aug2.png'], '42_aug3': ['42_aug3.png', '42_aug3.png'], '43_aug3': ['43_aug3.png', '43_aug3.png'], '34_aug2': ['34_aug2.png', '34_aug2.png'], '35_aug2': ['35_aug2.png', '35_aug2.png'], '29': ['29.png', '29.png'], '15': ['15.png', '15.png'], '22_aug4': ['22_aug4.png', '22_aug4.png'], '23_aug4': ['23_aug4.png', '23_aug4.png'], '49_aug2': ['49_aug2.png', '49_aug2.png'], '48_aug2': ['48_aug2.png', '48_aug2.png'], '16_aug4': ['16_aug4.png', '16_aug4.png'], '17': ['17.png', '17.png'], '17_aug4': ['17_aug4.png', '17_aug4.png'], '42_aug1': ['42_aug1.png', '42_aug1.png'], '43_aug1': ['43_aug1.png', '43_aug1.png'], '28_aug4': ['28_aug4.png', '28_aug4.png'], '29_aug4': ['29_aug4.png', '29_aug4.png'], '35_aug1': ['35_aug1.png', '35_aug1.png'], '34_aug1': ['34_aug1.png', '34_aug1.png'], '16': ['16.png', '16.png'], '48_aug3': ['48_aug3.png', '48_aug3.png'], '61_aug4': ['61_aug4.png', '61_aug4.png'], '60_aug4': ['60_aug4.png', '60_aug4.png'], '49_aug3': ['49_aug3.png', '49_aug3.png'], '54_aug2': ['54_aug2.png', '54_aug2.png'], '55_aug2': ['55_aug2.png', '55_aug2.png'], '5_aug2': ['5_aug2.png', '5_aug2.png'], '4_aug2': ['4_aug2.png', '4_aug2.png'], '22_aug3': ['22_aug3.png', '22_aug3.png'], '23_aug3': ['23_aug3.png', '23_aug3.png'], '16_aug1': ['16_aug1.png', '16_aug1.png'], '12': ['12.png', '12.png'], '17_aug1': ['17_aug1.png', '17_aug1.png'], '42_aug4': ['42_aug4.png', '42_aug4.png'], '43_aug4': ['43_aug4.png', '43_aug4.png'], '28_aug1': ['28_aug1.png', '28_aug1.png'], '29_aug1': ['29_aug1.png', '29_aug1.png'], '35_aug4': ['35_aug4.png', '35_aug4.png'], '34_aug4': ['34_aug4.png', '34_aug4.png'], '13': ['13.png', '13.png'], '23_aug2': ['23_aug2.png', '23_aug2.png'], '22_aug2': ['22_aug2.png', '22_aug2.png'], '4_aug3': ['4_aug3.png', '4_aug3.png'], '5_aug3': ['5_aug3.png', '5_aug3.png'], '55_aug3': ['55_aug3.png', '55_aug3.png'], '54_aug3': ['54_aug3.png', '54_aug3.png'], '61_aug1': ['61_aug1.png', '61_aug1.png'], '60_aug1': ['60_aug1.png', '60_aug1.png'], '61_aug3': ['61_aug3.png', '61_aug3.png'], '48_aug4': ['48_aug4.png', '48_aug4.png'], '49_aug4': ['49_aug4.png', '49_aug4.png'], '60_aug3': ['60_aug3.png', '60_aug3.png'], '55_aug1': ['55_aug1.png', '55_aug1.png'], '54_aug1': ['54_aug1.png', '54_aug1.png'], '4_aug1': ['4_aug1.png', '4_aug1.png'], '5_aug1': ['5_aug1.png', '5_aug1.png'], '39': ['39.png', '39.png'], '11': ['11.png', '11.png'], '17_aug2': ['17_aug2.png', '17_aug2.png'], '16_aug2': ['16_aug2.png', '16_aug2.png'], '28_aug3': ['28_aug3.png', '28_aug3.png'], '29_aug3': ['29_aug3.png', '29_aug3.png'], '29_aug2': ['29_aug2.png', '29_aug2.png'], '28_aug2': ['28_aug2.png', '28_aug2.png'], '16_aug3': ['16_aug3.png', '16_aug3.png'], '17_aug3': ['17_aug3.png', '17_aug3.png'], '10': ['10.png', '10.png'], '38': ['38.png', '38.png'], '22_aug1': ['22_aug1.png', '22_aug1.png'], '23_aug1': ['23_aug1.png', '23_aug1.png'], '60_aug2': ['60_aug2.png', '60_aug2.png'], '61_aug2': ['61_aug2.png', '61_aug2.png'], '12_aug4': ['12_aug4.png', '12_aug4.png'], '13_aug4': ['13_aug4.png', '13_aug4.png'], '35': ['35.png', '35.png'], '21': ['21.png', '21.png'], '46_aug1': ['46_aug1.png', '46_aug1.png'], '47_aug1': ['47_aug1.png', '47_aug1.png'], '31_aug1': ['31_aug1.png', '31_aug1.png'], '30_aug1': ['30_aug1.png', '30_aug1.png'], '64_aug4': ['64_aug4.png', '64_aug4.png'], '20': ['20.png', '20.png'], '34': ['34.png', '34.png'], '1_aug4': ['1_aug4.png', '1_aug4.png'], '51_aug4': ['51_aug4.png', '51_aug4.png'], '50_aug4': ['50_aug4.png', '50_aug4.png'], '22': ['22.png', '22.png'], '36': ['36.png', '36.png'], '47_aug2': ['47_aug2.png', '47_aug2.png'], '46_aug2': ['46_aug2.png', '46_aug2.png'], '31_aug3': ['31_aug3.png', '31_aug3.png'], '18_aug4': ['18_aug4.png', '18_aug4.png'], '19_aug4': ['19_aug4.png', '19_aug4.png'], '30_aug3': ['30_aug3.png', '30_aug3.png'], '30_aug2': ['30_aug2.png', '30_aug2.png'], '31_aug2': ['31_aug2.png', '31_aug2.png'], '46_aug3': ['46_aug3.png', '46_aug3.png'], '47_aug3': ['47_aug3.png', '47_aug3.png'], '37': ['37.png', '37.png'], '23': ['23.png', '23.png'], '26_aug4': ['26_aug4.png', '26_aug4.png'], '27_aug4': ['27_aug4.png', '27_aug4.png'], '13_aug2': ['13_aug2.png', '13_aug2.png'], '12_aug2': ['12_aug2.png', '12_aug2.png'], '1_aug1': ['1_aug1.png', '1_aug1.png'], '51_aug1': ['51_aug1.png', '51_aug1.png'], '50_aug1': ['50_aug1.png', '50_aug1.png'], '64_aug3': ['64_aug3.png', '64_aug3.png'], '27': ['27.png', '27.png'], '33': ['33.png', '33.png'], '18_aug1': ['18_aug1.png', '18_aug1.png'], '19_aug1': ['19_aug1.png', '19_aug1.png'], '32': ['32.png', '32.png'], '26': ['26.png', '26.png'], '64_aug2': ['64_aug2.png', '64_aug2.png'], '26_aug1': ['26_aug1.png', '26_aug1.png'], '27_aug1': ['27_aug1.png', '27_aug1.png'], '12_aug3': ['12_aug3.png', '12_aug3.png'], '13_aug3': ['13_aug3.png', '13_aug3.png'], '12_aug1': ['12_aug1.png', '12_aug1.png'], '13_aug1': ['13_aug1.png', '13_aug1.png'], '1_aug2': ['1_aug2.png', '1_aug2.png'], '26_aug3': ['26_aug3.png', '26_aug3.png'], '27_aug3': ['27_aug3.png', '27_aug3.png'], '50_aug2': ['50_aug2.png', '50_aug2.png'], '51_aug2': ['51_aug2.png', '51_aug2.png'], '18': ['18.png', '18.png'], '30': ['30.png', '30.png'], '24': ['24.png', '24.png'], '46_aug4': ['46_aug4.png', '46_aug4.png'], '47_aug4': ['47_aug4.png', '47_aug4.png'], '19_aug2': ['19_aug2.png', '19_aug2.png'], '18_aug2': ['18_aug2.png', '18_aug2.png'], '18_aug3': ['18_aug3.png', '18_aug3.png'], '31_aug4': ['31_aug4.png', '31_aug4.png'], '30_aug4': ['30_aug4.png', '30_aug4.png'], '19_aug3': ['19_aug3.png', '19_aug3.png'], '25': ['25.png', '25.png'], '31': ['31.png', '31.png'], '19': ['19.png', '19.png'], '64_aug1': ['64_aug1.png', '64_aug1.png'], '51_aug3': ['51_aug3.png', '51_aug3.png'], '50_aug3': ['50_aug3.png', '50_aug3.png'], '27_aug2': ['27_aug2.png', '27_aug2.png'], '26_aug2': ['26_aug2.png', '26_aug2.png'], '1_aug3': ['1_aug3.png', '1_aug3.png'], '56_aug1': ['56_aug1.png', '56_aug1.png'], '57_aug1': ['57_aug1.png', '57_aug1.png'], '62_aug3': ['62_aug3.png', '62_aug3.png'], '63_aug3': ['63_aug3.png', '63_aug3.png'], '14_aug2': ['14_aug2.png', '14_aug2.png'], '15_aug2': ['15_aug2.png', '15_aug2.png'], '4': ['4.png', '4.png'], '7_aug1': ['7_aug1.png', '7_aug1.png'], '56': ['56.png', '56.png'], '6_aug1': ['6_aug1.png', '6_aug1.png'], '42': ['42.png', '42.png'], '21_aug1': ['21_aug1.png', '21_aug1.png'], '20_aug1': ['20_aug1.png', '20_aug1.png'], '43': ['43.png', '43.png'], '5': ['5.png', '5.png'], '57': ['57.png', '57.png'], '15_aug3': ['15_aug3.png', '15_aug3.png'], '14_aug3': ['14_aug3.png', '14_aug3.png'], '63_aug2': ['63_aug2.png', '63_aug2.png'], '62_aug2': ['62_aug2.png', '62_aug2.png'], '57_aug2': ['57_aug2.png', '57_aug2.png'], '56_aug2': ['56_aug2.png', '56_aug2.png'], '15_aug1': ['15_aug1.png', '15_aug1.png'], '14_aug1': ['14_aug1.png', '14_aug1.png'], '6_aug2': ['6_aug2.png', '6_aug2.png'], '41': ['41.png', '41.png'], '55': ['55.png', '55.png'], '7': ['7.png', '7.png'], '7_aug2': ['7_aug2.png', '7_aug2.png'], '21_aug3': ['21_aug3.png', '21_aug3.png'], '20_aug3': ['20_aug3.png', '20_aug3.png'], '41_aug4': ['41_aug4.png', '41_aug4.png'], '40_aug4': ['40_aug4.png', '40_aug4.png'], '36_aug4': ['36_aug4.png', '36_aug4.png'], '37_aug4': ['37_aug4.png', '37_aug4.png'], '20_aug2': ['20_aug2.png', '20_aug2.png'], '21_aug2': ['21_aug2.png', '21_aug2.png'], '54': ['54.png', '54.png'], '7_aug3': ['7_aug3.png', '7_aug3.png'], '6': ['6.png', '6.png'], '40': ['40.png', '40.png'], '6_aug3': ['6_aug3.png', '6_aug3.png'], '62_aug1': ['62_aug1.png', '62_aug1.png'], '63_aug1': ['63_aug1.png', '63_aug1.png'], '56_aug3': ['56_aug3.png', '56_aug3.png'], '57_aug3': ['57_aug3.png', '57_aug3.png'], '15_aug4': ['15_aug4.png', '15_aug4.png'], '14_aug4': ['14_aug4.png', '14_aug4.png'], '44': ['44.png', '44.png'], '2': ['2.png', '2.png'], '50': ['50.png', '50.png'], '41_aug1': ['41_aug1.png', '41_aug1.png'], '40_aug1': ['40_aug1.png', '40_aug1.png'], '36_aug1': ['36_aug1.png', '36_aug1.png'], '37_aug1': ['37_aug1.png', '37_aug1.png'], '3': ['3.png', '3.png'], '51': ['51.png', '51.png'], '45': ['45.png', '45.png'], '62_aug4': ['62_aug4.png', '62_aug4.png'], '63_aug4': ['63_aug4.png', '63_aug4.png'], '56_aug4': ['56_aug4.png', '56_aug4.png'], '57_aug4': ['57_aug4.png', '57_aug4.png'], '53': ['53.png', '53.png'], '1': ['1.png', '1.png'], '7_aug4': ['7_aug4.png', '7_aug4.png'], '6_aug4': ['6_aug4.png', '6_aug4.png'], '47': ['47.png', '47.png'], '36_aug3': ['36_aug3.png', '36_aug3.png'], '37_aug3': ['37_aug3.png', '37_aug3.png'], '40_aug2': ['40_aug2.png', '40_aug2.png'], '41_aug2': ['41_aug2.png', '41_aug2.png'], '41_aug3': ['41_aug3.png', '41_aug3.png'], '40_aug3': ['40_aug3.png', '40_aug3.png'], '37_aug2': ['37_aug2.png', '37_aug2.png'], '36_aug2': ['36_aug2.png', '36_aug2.png'], '46': ['46.png', '46.png'], '52': ['52.png', '52.png'], '21_aug4': ['21_aug4.png', '21_aug4.png'], '20_aug4': ['20_aug4.png', '20_aug4.png']}\n"
     ]
    }
   ],
   "source": [
    "# Lets see how the dictionary looks like\n",
    "print(image_mask_dict)"
   ]
  },
  {
   "cell_type": "code",
   "execution_count": null,
   "metadata": {},
   "outputs": [],
   "source": [
    "import json\n",
    "\n"
   ]
  }
 ],
 "metadata": {
  "kernelspec": {
   "display_name": "Python 3 (ipykernel)",
   "language": "python",
   "name": "python3"
  },
  "language_info": {
   "codemirror_mode": {
    "name": "ipython",
    "version": 3
   },
   "file_extension": ".py",
   "mimetype": "text/x-python",
   "name": "python",
   "nbconvert_exporter": "python",
   "pygments_lexer": "ipython3",
   "version": "3.12.9"
  }
 },
 "nbformat": 4,
 "nbformat_minor": 4
}
